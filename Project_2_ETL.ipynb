{
 "cells": [
  {
   "cell_type": "markdown",
   "id": "9a188a2e",
   "metadata": {},
   "source": [
    "# ETL Project  12 January 2022"
   ]
  },
  {
   "cell_type": "markdown",
   "id": "3aea09b2",
   "metadata": {},
   "source": [
    "## Brief description of challenge here\n",
    "what is ETL, what tools are used, what are the important steps."
   ]
  },
  {
   "cell_type": "markdown",
   "id": "388fdeec",
   "metadata": {},
   "source": [
    "## Brief description of the data here\n",
    "Zillow Real Estate Data (used to be quandl, now Nasdaq), table format"
   ]
  },
  {
   "cell_type": "code",
   "execution_count": null,
   "id": "428da80f",
   "metadata": {},
   "outputs": [],
   "source": []
  },
  {
   "cell_type": "code",
   "execution_count": null,
   "id": "ac38369d",
   "metadata": {},
   "outputs": [],
   "source": [
    "# Setting dependencies, etc.\n",
    "\n",
    "import numpy as np\n",
    "import pandas as pd\n",
    "\n",
    "pd.set_option('display.max_colwidth', None)\n",
    "\n",
    "# for importing data:\n",
    "import quandl\n",
    "quandl.ApiConfig.api_key = 'vxSYNGB-9owcVsRx_SEF'\n",
    "\n",
    "import requests\n",
    "import statistics\n",
    "import time\n",
    "\n",
    "# for communicating to database\n",
    "import psycopgy2\n",
    "import io\n",
    "from sqlalchemy import create_engine\n",
    "\n",
    "# for displays (may not use)\n",
    "#import matplotlib.pyplot as plt\n",
    "#import seaborn as sns\n",
    "#from pprint import pprint"
   ]
  },
  {
   "cell_type": "code",
   "execution_count": null,
   "id": "ffec2aa3",
   "metadata": {},
   "outputs": [],
   "source": []
  },
  {
   "cell_type": "code",
   "execution_count": null,
   "id": "91511244",
   "metadata": {},
   "outputs": [],
   "source": []
  },
  {
   "cell_type": "code",
   "execution_count": null,
   "id": "a7fd78b3",
   "metadata": {},
   "outputs": [],
   "source": []
  },
  {
   "cell_type": "code",
   "execution_count": null,
   "id": "eef76a18",
   "metadata": {},
   "outputs": [],
   "source": []
  },
  {
   "cell_type": "markdown",
   "id": "37aab15a",
   "metadata": {},
   "source": [
    "## Step 1: Data Extraction and preparation"
   ]
  },
  {
   "cell_type": "markdown",
   "id": "0b7217fa",
   "metadata": {},
   "source": [
    "### Extraction: source and comments"
   ]
  },
  {
   "cell_type": "markdown",
   "id": "e9d9a994",
   "metadata": {},
   "source": [
    "The Zillow database comprises three tables: Indicators (## market indicators), Regions (over 78,000!) and Data (market value). "
   ]
  },
  {
   "cell_type": "markdown",
   "id": "e45c6249",
   "metadata": {},
   "source": [
    "We extract the data using the quandl library. First, I will extract the data, then look at the data frame to identify any inconsistencies, type errors, etc. "
   ]
  },
  {
   "cell_type": "code",
   "execution_count": null,
   "id": "7f20aaf2",
   "metadata": {},
   "outputs": [],
   "source": [
    "# Table 1: Data - values for all indicators\n",
    "# Here, we're restricting the extraction to US records only (region_id = 102001)\n",
    "\n",
    "zillow_data = quandl.get_table('ZILLOW/DATA', region_id = '102001', paginate = True)\n",
    "zillow_data.head()"
   ]
  },
  {
   "cell_type": "markdown",
   "id": "8b4f60ff",
   "metadata": {},
   "source": [
    "Here we see the indicator_id, which is a primary key, the region_id (we can eliminate downstream), the date, and market value. Let's see the info and dtypes, ets. "
   ]
  },
  {
   "cell_type": "code",
   "execution_count": null,
   "id": "e7cf92df",
   "metadata": {},
   "outputs": [],
   "source": [
    "zillow_data.info()"
   ]
  },
  {
   "cell_type": "markdown",
   "id": "969cc22f",
   "metadata": {},
   "source": [
    "There are 11680 records.\n",
    "The date is in datetime64 dtype, and the value is a float, so that's good. No changes necessary. "
   ]
  },
  {
   "cell_type": "code",
   "execution_count": null,
   "id": "bb0a38a8",
   "metadata": {},
   "outputs": [],
   "source": []
  },
  {
   "cell_type": "code",
   "execution_count": null,
   "id": "9c7fa179",
   "metadata": {},
   "outputs": [],
   "source": [
    "# Table 2: Indicators - names and IDs of all indicators\n",
    "zillow_ind = quandl.get_table('ZILLOW/INDICATORS', paginate = True)\n",
    "zillow_ind.head()"
   ]
  },
  {
   "cell_type": "markdown",
   "id": "6ad41a0a",
   "metadata": {},
   "source": [
    "The indicator_id is shared with the \"Data\" table and makes it amenable to querying. Indicator_id is a four-character classification of a market indicator, which is described in the column \"indicator\". There are 56 indicators, grouped into one of three categories: home values, rentals, and sales and inventories. "
   ]
  },
  {
   "cell_type": "code",
   "execution_count": null,
   "id": "5af231fb",
   "metadata": {},
   "outputs": [],
   "source": [
    "zillow_ind.info()"
   ]
  },
  {
   "cell_type": "code",
   "execution_count": null,
   "id": "f5115658",
   "metadata": {},
   "outputs": [],
   "source": [
    "# Table 3: Regions - names and IDs of all regions\n",
    "# Even though we're restricting our attention to the US, there are lots of sub-regions.\n",
    "\n",
    "zillow_reg = quandl.get_table('ZILLOW/REGIONS', paginate = True)\n",
    "zillow_reg.head()"
   ]
  },
  {
   "cell_type": "code",
   "execution_count": null,
   "id": "24d6c4dc",
   "metadata": {},
   "outputs": [],
   "source": [
    "zillow_reg.tail()"
   ]
  },
  {
   "cell_type": "code",
   "execution_count": null,
   "id": "c7455de1",
   "metadata": {},
   "outputs": [],
   "source": [
    "zillow_reg.info()"
   ]
  },
  {
   "cell_type": "code",
   "execution_count": null,
   "id": "637d3dac",
   "metadata": {},
   "outputs": [],
   "source": [
    "list(zillow_reg['region_type'].unique())"
   ]
  },
  {
   "cell_type": "markdown",
   "id": "126a5c1e",
   "metadata": {},
   "source": [
    "There's a lot of variety in the information in the 'region' column. For the database, each column has to have one type of entry. The solution is to create additional columns for each one of the six region types (listed above). The data from region will be parsed into those columns, then deleted. "
   ]
  },
  {
   "cell_type": "markdown",
   "id": "dc6201ac",
   "metadata": {},
   "source": [
    "## Preparation\n",
    "checking data types, removing uninformative characters, parsing info from one column into many"
   ]
  },
  {
   "cell_type": "code",
   "execution_count": null,
   "id": "1c6e267b",
   "metadata": {},
   "outputs": [],
   "source": [
    "# Making the necessary additional columns (object Dtype)\n",
    "\n",
    "zillow_reg['zip'] = ''\n",
    "zillow_reg['state'] = ''\n",
    "zillow_reg['neigh'] = ''\n",
    "zillow_reg['county'] = ''\n",
    "zillow_reg['city'] = ''\n",
    "\n",
    "zillow_reg.head()"
   ]
  },
  {
   "cell_type": "code",
   "execution_count": null,
   "id": "bdbc2f4f",
   "metadata": {},
   "outputs": [],
   "source": [
    "# Parsing out information for the different region types. Using a double loop. A series of conditionals based on evaluating the contents between splitting character, The semicolon ';' character is what defines splitting fields\n",
    "# Starting with zipcode. Go l-r down the string. First, look for a set of digits. If they exist, put into zip column. Next, look for a set of 3 characters (state), save as state, etc.\n",
    "\n",
    "zipcode = zillow_reg[zillow_reg['region_type'] == 'zip']['region'].str.split(';', n=4, expand = True)\n",
    "for i in range(5):\n",
    "    for j in zipcode.index:\n",
    "        if str(zipcode[i][j]).isdigit():\n",
    "            zillow_reg['zip'][j] = zipcode[i][j]\n",
    "        elif len(str(zipcode[i][j])) == 3:\n",
    "            zillow_reg['state'][j] = zipcode[i][j]\n",
    "        elif str(zipcode[i][j]).find('-') != -1:  ## comment on '-'\n",
    "            zillow_reg['neigh'][j] = zipcode[i][j]\n",
    "        elif str(zipcode[i][j]).find(' County') != -1:\n",
    "            zillow_reg['county'][j] = zipcode[i][j]\n",
    "        elif str(zipcode[i][j]).find(' Borough') != -1:\n",
    "            zillow_reg['county'][j] = zipcode[i][j] #classifying boroughs as counties\n",
    "        else:\n",
    "            zillow_reg['city'][j] = zipcode[i][j]\n",
    "               \n",
    "        "
   ]
  },
  {
   "cell_type": "code",
   "execution_count": null,
   "id": "a5440bb1",
   "metadata": {},
   "outputs": [],
   "source": [
    "zillow_reg.head()"
   ]
  },
  {
   "cell_type": "code",
   "execution_count": null,
   "id": "0e998ce7",
   "metadata": {},
   "outputs": [],
   "source": [
    "zillow_reg.tail()"
   ]
  },
  {
   "cell_type": "markdown",
   "id": "450d05c5",
   "metadata": {},
   "source": [
    "So far, so good. Now, follow same procedure for remaining region types. "
   ]
  },
  {
   "cell_type": "code",
   "execution_count": null,
   "id": "a8bed1b0",
   "metadata": {},
   "outputs": [],
   "source": [
    "# region type: city\n",
    "\n",
    "city = zillow_reg[zillow_reg['region_type'] == 'city']['region'].str.split(';', n=4, expand = True)\n",
    "for i in range(0,1):\n",
    "    for j in city.index: \n",
    "        if str(city[i][j]).isdigit():\n",
    "            zillow_reg['zip'][j] = city[i][j]\n",
    "        elif len(str(city[i][j])) == 3:\n",
    "            zillow_reg['state'][j] = city[i][j]\n",
    "        elif str(city[i][j]).find('-') != -1:  \n",
    "            zillow_reg['neigh'][j] = city[i][j]\n",
    "        elif str(city[i][j]).find(' County') != -1:\n",
    "            zillow_reg['county'][j] = city[i][j]\n",
    "        elif str(city[i][j]).find(' Borough') != -1:\n",
    "            zillow_reg['county'][j] = city[i][j] \n",
    "        else:\n",
    "            zillow_reg['city'][j] = city[i][j]"
   ]
  },
  {
   "cell_type": "code",
   "execution_count": null,
   "id": "69c88006",
   "metadata": {},
   "outputs": [],
   "source": []
  },
  {
   "cell_type": "code",
   "execution_count": null,
   "id": "98198f03",
   "metadata": {},
   "outputs": [],
   "source": [
    "# region type: neighborhood ('neigh')\n",
    "# there's not many of them\n",
    "\n",
    "nhood = zillow_reg[zillow_reg['region_type'] == 'neigh']['region'].str.split(';', n = 4, expand = True)\n",
    "for i in range (4):\n",
    "    for j in nhood.index: \n",
    "        if str(nhood[i][j]).isdigit():\n",
    "            zillow_reg['zip'][j] = nhood[i][j]\n",
    "        elif len(str(nhood[i][j])) == 3:\n",
    "            zillow_reg['state'][j] = nhood[i][j]\n",
    "        elif str(nhood[i][j]).find('-') != -1:  \n",
    "            zillow_reg['neigh'][j] = nhood[i][j]\n",
    "        elif str(nhood[i][j]).find(' County') != -1:\n",
    "            zillow_reg['county'][j] = nhood[i][j]\n",
    "        elif str(nhood[i][j]).find(' Borough') != -1:\n",
    "            zillow_reg['county'][j] = nhood[i][j] \n",
    "        else:\n",
    "            zillow_reg['city'][j] = nhood[i][j]"
   ]
  },
  {
   "cell_type": "code",
   "execution_count": null,
   "id": "8b39fe69",
   "metadata": {},
   "outputs": [],
   "source": [
    "nhood"
   ]
  },
  {
   "cell_type": "code",
   "execution_count": null,
   "id": "9b1525ad",
   "metadata": {},
   "outputs": [],
   "source": [
    "zillow_reg.tail()"
   ]
  },
  {
   "cell_type": "code",
   "execution_count": null,
   "id": "e4d468c0",
   "metadata": {},
   "outputs": [],
   "source": [
    "city"
   ]
  },
  {
   "cell_type": "code",
   "execution_count": null,
   "id": "3b07be64",
   "metadata": {},
   "outputs": [],
   "source": [
    "# region type: county\n",
    "\n",
    "county = zillow_reg[zillow_reg['region_type'] == 'county']['region'].str.split(';', n = 4, expand = True)\n",
    "for i in range (2):\n",
    "    for j in county.index: \n",
    "        if str(county[i][j]).isdigit():\n",
    "            zillow_reg['zip'][j] = county[i][j]\n",
    "        elif len(str(county[i][j])) == 3:\n",
    "            zillow_reg['state'][j] = county[i][j]\n",
    "        elif str(county[i][j]).find('-') != -1:  \n",
    "            zillow_reg['neigh'][j] = county[i][j]\n",
    "        elif str(county[i][j]).find(' County') != -1:\n",
    "            zillow_reg['county'][j] = county[i][j]\n",
    "        elif str(county[i][j]).find(' Borough') != -1:\n",
    "            zillow_reg['county'][j] = county[i][j] \n",
    "        else:\n",
    "            zillow_reg['city'][j] = county[i][j]"
   ]
  },
  {
   "cell_type": "code",
   "execution_count": null,
   "id": "2a38134e",
   "metadata": {},
   "outputs": [],
   "source": [
    "county"
   ]
  },
  {
   "cell_type": "code",
   "execution_count": null,
   "id": "2db6ee88",
   "metadata": {},
   "outputs": [],
   "source": [
    "# region type: state\n",
    "\n",
    "state = zillow_reg[zillow_reg['region_type'] == 'state']['region'].str.split(';', n = 1, expand = True)\n",
    "for i in range (2):\n",
    "    for j in state.index: \n",
    "        if str(state[i][j]).isdigit():\n",
    "            zillow_reg['zip'][j] = state[i][j]\n",
    "        elif len(str(state[i][j])) == 3:\n",
    "            zillow_reg['state'][j] = state[i][j]\n",
    "        elif str(state[i][j]).find('-') != -1:  \n",
    "            zillow_reg['neigh'][j] = state[i][j]\n",
    "        elif str(state[i][j]).find(' County') != -1:\n",
    "            zillow_reg['county'][j] = state[i][j]\n",
    "        elif str(state[i][j]).find(' Borough') != -1:\n",
    "            zillow_reg['county'][j] = state[i][j] \n",
    "        else:\n",
    "            zillow_reg['city'][j] = state[i][j]"
   ]
  },
  {
   "cell_type": "code",
   "execution_count": null,
   "id": "6de70be1",
   "metadata": {},
   "outputs": [],
   "source": [
    "state\n"
   ]
  },
  {
   "cell_type": "code",
   "execution_count": null,
   "id": "279ed07f",
   "metadata": {},
   "outputs": [],
   "source": [
    "# region type: metro\n",
    "\n",
    "metro = zillow_reg[zillow_reg['region_type'] == 'metro']['region'].str.split(';', n = 1, expand = True)\n",
    "met = metro[0].str.split(',', n = 2, expand = True) # there's a second delimiter to deal with\n",
    "for i in range (2):\n",
    "    for j in met.index: \n",
    "        if str(met[i][j]).isdigit():\n",
    "            zillow_reg['zip'][j] = met[i][j]\n",
    "        elif len(str(met[i][j])) == 3:\n",
    "            zillow_reg['state'][j] = met[i][j]\n",
    "        elif str(met[i][j]).find('-') != -1:  \n",
    "            zillow_reg['neigh'][j] = met[i][j]\n",
    "        elif str(met[i][j]).find(' County') != -1:\n",
    "            zillow_reg['county'][j] = met[i][j]\n",
    "        elif str(met[i][j]).find(' Borough') != -1:\n",
    "            zillow_reg['county'][j] = met[i][j] \n",
    "        else:\n",
    "            zillow_reg['city'][j] = met[i][j]"
   ]
  },
  {
   "cell_type": "code",
   "execution_count": null,
   "id": "cf1dfa21",
   "metadata": {},
   "outputs": [],
   "source": [
    "met"
   ]
  },
  {
   "cell_type": "code",
   "execution_count": null,
   "id": "ef1a6e60",
   "metadata": {},
   "outputs": [],
   "source": [
    "# Looking at the data frame:\n",
    "zillow_reg.tail(15)"
   ]
  },
  {
   "cell_type": "code",
   "execution_count": null,
   "id": "b6421969",
   "metadata": {},
   "outputs": [],
   "source": [
    "zillow_reg.head()"
   ]
  },
  {
   "cell_type": "markdown",
   "id": "dbdf7f5c",
   "metadata": {},
   "source": [
    "This is imperfect; there are plenty of cities not being parsed out correctly. I'm moving forward with the exercise and will not use 'city' in a query."
   ]
  },
  {
   "cell_type": "code",
   "execution_count": null,
   "id": "85c0caac",
   "metadata": {},
   "outputs": [],
   "source": [
    "# dropping 'region' column from table:\n",
    "\n",
    "zillow_reg.drop('region', axis = 1, inplace = True)"
   ]
  },
  {
   "cell_type": "code",
   "execution_count": null,
   "id": "6992fbe9",
   "metadata": {},
   "outputs": [],
   "source": [
    "zillow_reg[zillow_reg['region_type'] == 'zip']"
   ]
  },
  {
   "cell_type": "code",
   "execution_count": null,
   "id": "b6f4464f",
   "metadata": {},
   "outputs": [],
   "source": [
    "zillow_reg[zillow_reg['region_type'] == 'neigh']"
   ]
  },
  {
   "cell_type": "markdown",
   "id": "1c3d4c4b",
   "metadata": {},
   "source": [
    "## Step 2: Transformation"
   ]
  },
  {
   "cell_type": "markdown",
   "id": "3a8433cc",
   "metadata": {},
   "source": [
    "### Creating database in PostgresQL using psycopg2\n",
    "Using the DDL to create tables (talk about staging, goal)"
   ]
  },
  {
   "cell_type": "markdown",
   "id": "274423d9",
   "metadata": {},
   "source": [
    "First, we need to create staging tables as a buffer in the database to hold newly extracted data. \n",
    "I create three staging tables (data, indicator, region). The creation of the extra columns in the region table requires the creation of additional database tables for querying. Tables are created using Data Description Language (DDL). Tables are related by the primary or foreign keys. The embedded LucidChart figure illustrates the relationships among tables in this project. "
   ]
  },
  {
   "cell_type": "markdown",
   "id": "3427ef12",
   "metadata": {},
   "source": [
    "Also, we need to connect to PostgreSL using psycopg2. "
   ]
  },
  {
   "cell_type": "code",
   "execution_count": null,
   "id": "31cdd923",
   "metadata": {},
   "outputs": [],
   "source": []
  },
  {
   "cell_type": "code",
   "execution_count": null,
   "id": "0c949116",
   "metadata": {},
   "outputs": [],
   "source": [
    "##### DDL for table creation ####\n",
    "\n",
    "def create_tables():\n",
    "    \n",
    "    '''create tables in postgreSQL'''\n",
    "    \n",
    "    commands = (\n",
    "    '''\n",
    "    CREATE TABLE stage_zillow_indicator(\n",
    "    stage_indicator_id CHAR(5),\n",
    "    stage_indicator VARCHAR(255),\n",
    "    stage_category VARCHAR(255)\n",
    "                                        )\n",
    "    ''',\n",
    "    '''\n",
    "    CREATE TABLE state_zillow_region(\n",
    "    stage_region_id INTEGER,\n",
    "    stage_region_type VARCHAR(255),\n",
    "    stage_region VARCHAR(255),\n",
    "    stage_zipcode CHAR(10),\n",
    "    stage_county VARCHAR (255),\n",
    "    stage_city VARCHAR(255),\n",
    "    stage_neigh VARCHAR(255)\n",
    "                                     )\n",
    "    ''',\n",
    "    '''\n",
    "    CREATE TABLE stage_zillow_data(\n",
    "    stage_indicator_id CHAR(5),\n",
    "    stage_region_id INTEGER,\n",
    "    stage_date DATE,\n",
    "    stage value MONEY\n",
    "                                   )\n",
    "    ''',\n",
    "    '''\n",
    "    CREATE TABLE z_indicator(\n",
    "    z_ind_id SERIAL PRIMARY KEY,\n",
    "    indicator_name CHAR(5) NOT NULL,\n",
    "    indicator VARCHAR(255) NOT NULL,\n",
    "    category_id SERIAL REFERENCES category(category_id)\n",
    "                             )\n",
    "    ''',\n",
    "    '''\n",
    "    CREATE TABLE region_type(\n",
    "    region_type_id SERIAL PRIMARY KEY,\n",
    "    region_type_name VARCHAR(255) NOT NULL\n",
    "                             )\n",
    "    ''',\n",
    "    '''\n",
    "    CREATE TABLE region(\n",
    "    region_id SERIAL PRIMARY KEY,\n",
    "    region_num INTEGER, \n",
    "    region_type_id SERIAL REFERENCES region_type(region_type_id),\n",
    "    neigh VARCHAR(255),\n",
    "    city VARCHAR(255),\n",
    "    county VARCHAR(255),\n",
    "    state CHAR(5),\n",
    "    zip CHAR(10)\n",
    "                       )\n",
    "    ''',\n",
    "    '''\n",
    "    CREATE TABLE zillow_data(\n",
    "    z_data SERIAL PRIMARY KEY,\n",
    "    region_id SERIAL REFERENCES region(region_id),\n",
    "    z_ind_id SERIAL REFFERENCES z_indicator(z_ind_id),\n",
    "    z_date DATE,\n",
    "    value MONEY\n",
    "                             )\n",
    "    ''')\n",
    "    \n",
    "    conn = None\n",
    "    \n",
    "    \n",
    "    try:\n",
    "        conn = psycopyg2.connect(database='zillow', user = 'postgres', password = 'postgresql', host = '127.0.0.1', port = '5432')\n",
    "        print('Database connected')\n",
    "        \n",
    "        cur = conn.cursor()\n",
    "        print('cursor')\n",
    "        \n",
    "        for command in commands: \n",
    "            cur.execute(command)\n",
    "            \n",
    "        print('Tables created')\n",
    "        \n",
    "        cur.close()\n",
    "        print('Connection closed')\n",
    "        \n",
    "        conn.commit()\n",
    "        print('Tables committed')\n",
    "        \n",
    "    except:\n",
    "        print('Error loading')\n",
    "        \n",
    "        \n",
    "#if __name__ == '__main__':\n",
    "#    create tables()\n"
   ]
  },
  {
   "cell_type": "code",
   "execution_count": null,
   "id": "3b990009",
   "metadata": {},
   "outputs": [],
   "source": []
  },
  {
   "cell_type": "code",
   "execution_count": null,
   "id": "9ef1cb03",
   "metadata": {},
   "outputs": [],
   "source": []
  },
  {
   "cell_type": "code",
   "execution_count": null,
   "id": "acf788ca",
   "metadata": {},
   "outputs": [],
   "source": []
  },
  {
   "cell_type": "markdown",
   "id": "9f00f933",
   "metadata": {},
   "source": [
    "## Step 3: Loading the data"
   ]
  },
  {
   "cell_type": "markdown",
   "id": "b9edafac",
   "metadata": {},
   "source": [
    "### Connecting to postgresQL and loading data"
   ]
  },
  {
   "cell_type": "code",
   "execution_count": null,
   "id": "f671a4eb",
   "metadata": {},
   "outputs": [],
   "source": []
  },
  {
   "cell_type": "code",
   "execution_count": null,
   "id": "4cc81265",
   "metadata": {},
   "outputs": [],
   "source": []
  },
  {
   "cell_type": "code",
   "execution_count": null,
   "id": "cb807f76",
   "metadata": {},
   "outputs": [],
   "source": []
  },
  {
   "cell_type": "code",
   "execution_count": null,
   "id": "7e377d8a",
   "metadata": {},
   "outputs": [],
   "source": []
  },
  {
   "cell_type": "code",
   "execution_count": null,
   "id": "29a48380",
   "metadata": {},
   "outputs": [],
   "source": []
  },
  {
   "cell_type": "code",
   "execution_count": null,
   "id": "202cb9bf",
   "metadata": {},
   "outputs": [],
   "source": []
  },
  {
   "cell_type": "code",
   "execution_count": null,
   "id": "a8de88aa",
   "metadata": {},
   "outputs": [],
   "source": []
  },
  {
   "cell_type": "markdown",
   "id": "b27d12d1",
   "metadata": {},
   "source": [
    "## Step 4: Illustration of data model (perhaps this goes before transformation)"
   ]
  },
  {
   "cell_type": "code",
   "execution_count": null,
   "id": "41d1e17f",
   "metadata": {},
   "outputs": [],
   "source": []
  },
  {
   "cell_type": "code",
   "execution_count": null,
   "id": "73095eda",
   "metadata": {},
   "outputs": [],
   "source": []
  },
  {
   "cell_type": "code",
   "execution_count": null,
   "id": "1b4d0769",
   "metadata": {},
   "outputs": [],
   "source": []
  },
  {
   "cell_type": "code",
   "execution_count": null,
   "id": "39d7c2c1",
   "metadata": {},
   "outputs": [],
   "source": []
  },
  {
   "cell_type": "code",
   "execution_count": null,
   "id": "957b2d24",
   "metadata": {},
   "outputs": [],
   "source": []
  },
  {
   "cell_type": "code",
   "execution_count": null,
   "id": "6cca8326",
   "metadata": {},
   "outputs": [],
   "source": []
  },
  {
   "cell_type": "code",
   "execution_count": null,
   "id": "be460d58",
   "metadata": {},
   "outputs": [],
   "source": []
  },
  {
   "cell_type": "markdown",
   "id": "08818f5c",
   "metadata": {},
   "source": [
    "## Step 5: Query the database"
   ]
  },
  {
   "cell_type": "code",
   "execution_count": null,
   "id": "93caa5c9",
   "metadata": {},
   "outputs": [],
   "source": []
  },
  {
   "cell_type": "code",
   "execution_count": null,
   "id": "34e133bd",
   "metadata": {},
   "outputs": [],
   "source": []
  },
  {
   "cell_type": "code",
   "execution_count": null,
   "id": "baeb58da",
   "metadata": {},
   "outputs": [],
   "source": []
  },
  {
   "cell_type": "code",
   "execution_count": null,
   "id": "753d34f0",
   "metadata": {},
   "outputs": [],
   "source": []
  },
  {
   "cell_type": "code",
   "execution_count": null,
   "id": "7d169d23",
   "metadata": {},
   "outputs": [],
   "source": []
  },
  {
   "cell_type": "code",
   "execution_count": null,
   "id": "e41fd3ff",
   "metadata": {},
   "outputs": [],
   "source": []
  },
  {
   "cell_type": "code",
   "execution_count": null,
   "id": "1199c38f",
   "metadata": {},
   "outputs": [],
   "source": []
  },
  {
   "cell_type": "code",
   "execution_count": null,
   "id": "a2aeab95",
   "metadata": {},
   "outputs": [],
   "source": []
  },
  {
   "cell_type": "code",
   "execution_count": null,
   "id": "112f4047",
   "metadata": {},
   "outputs": [],
   "source": []
  },
  {
   "cell_type": "code",
   "execution_count": null,
   "id": "84547104",
   "metadata": {},
   "outputs": [],
   "source": []
  },
  {
   "cell_type": "code",
   "execution_count": null,
   "id": "b53a1151",
   "metadata": {},
   "outputs": [],
   "source": []
  },
  {
   "cell_type": "code",
   "execution_count": null,
   "id": "16da86ce",
   "metadata": {},
   "outputs": [],
   "source": []
  },
  {
   "cell_type": "code",
   "execution_count": null,
   "id": "3fdbc46e",
   "metadata": {},
   "outputs": [],
   "source": []
  },
  {
   "cell_type": "code",
   "execution_count": null,
   "id": "b875d71d",
   "metadata": {},
   "outputs": [],
   "source": []
  },
  {
   "cell_type": "code",
   "execution_count": null,
   "id": "81a1c9db",
   "metadata": {},
   "outputs": [],
   "source": []
  },
  {
   "cell_type": "code",
   "execution_count": null,
   "id": "cad21cea",
   "metadata": {},
   "outputs": [],
   "source": []
  },
  {
   "cell_type": "code",
   "execution_count": null,
   "id": "889f80c8",
   "metadata": {},
   "outputs": [],
   "source": []
  },
  {
   "cell_type": "code",
   "execution_count": null,
   "id": "7f931e44",
   "metadata": {},
   "outputs": [],
   "source": []
  },
  {
   "cell_type": "code",
   "execution_count": null,
   "id": "aad629fb",
   "metadata": {},
   "outputs": [],
   "source": []
  },
  {
   "cell_type": "code",
   "execution_count": null,
   "id": "5fb8370f",
   "metadata": {},
   "outputs": [],
   "source": []
  },
  {
   "cell_type": "code",
   "execution_count": null,
   "id": "76bd431d",
   "metadata": {},
   "outputs": [],
   "source": []
  },
  {
   "cell_type": "code",
   "execution_count": null,
   "id": "8c48aac7",
   "metadata": {},
   "outputs": [],
   "source": []
  },
  {
   "cell_type": "code",
   "execution_count": null,
   "id": "df3ea67d",
   "metadata": {},
   "outputs": [],
   "source": []
  },
  {
   "cell_type": "code",
   "execution_count": null,
   "id": "bfbf6597",
   "metadata": {},
   "outputs": [],
   "source": []
  },
  {
   "cell_type": "code",
   "execution_count": null,
   "id": "d21c2949",
   "metadata": {},
   "outputs": [],
   "source": []
  },
  {
   "cell_type": "code",
   "execution_count": null,
   "id": "3f3d2083",
   "metadata": {},
   "outputs": [],
   "source": []
  },
  {
   "cell_type": "code",
   "execution_count": null,
   "id": "f2619230",
   "metadata": {},
   "outputs": [],
   "source": []
  },
  {
   "cell_type": "code",
   "execution_count": null,
   "id": "1c0ce155",
   "metadata": {},
   "outputs": [],
   "source": []
  },
  {
   "cell_type": "code",
   "execution_count": null,
   "id": "963101ae",
   "metadata": {},
   "outputs": [],
   "source": []
  },
  {
   "cell_type": "code",
   "execution_count": null,
   "id": "e5023507",
   "metadata": {},
   "outputs": [],
   "source": []
  },
  {
   "cell_type": "code",
   "execution_count": null,
   "id": "f8cd5b4f",
   "metadata": {},
   "outputs": [],
   "source": []
  },
  {
   "cell_type": "code",
   "execution_count": null,
   "id": "06c9501a",
   "metadata": {},
   "outputs": [],
   "source": []
  },
  {
   "cell_type": "code",
   "execution_count": null,
   "id": "81432eb9",
   "metadata": {},
   "outputs": [],
   "source": []
  },
  {
   "cell_type": "code",
   "execution_count": null,
   "id": "23a42f25",
   "metadata": {},
   "outputs": [],
   "source": []
  },
  {
   "cell_type": "code",
   "execution_count": null,
   "id": "db09784a",
   "metadata": {},
   "outputs": [],
   "source": []
  },
  {
   "cell_type": "code",
   "execution_count": null,
   "id": "045351d8",
   "metadata": {},
   "outputs": [],
   "source": []
  },
  {
   "cell_type": "code",
   "execution_count": null,
   "id": "d2609ba9",
   "metadata": {},
   "outputs": [],
   "source": []
  },
  {
   "cell_type": "code",
   "execution_count": null,
   "id": "ec6669a5",
   "metadata": {},
   "outputs": [],
   "source": []
  }
 ],
 "metadata": {
  "kernelspec": {
   "display_name": "Python 3",
   "language": "python",
   "name": "python3"
  },
  "language_info": {
   "codemirror_mode": {
    "name": "ipython",
    "version": 3
   },
   "file_extension": ".py",
   "mimetype": "text/x-python",
   "name": "python",
   "nbconvert_exporter": "python",
   "pygments_lexer": "ipython3",
   "version": "3.8.5"
  }
 },
 "nbformat": 4,
 "nbformat_minor": 5
}
